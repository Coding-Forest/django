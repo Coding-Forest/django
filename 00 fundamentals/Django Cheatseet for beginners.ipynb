{
  "nbformat": 4,
  "nbformat_minor": 0,
  "metadata": {
    "colab": {
      "name": "Django Basics.ipynb",
      "provenance": [],
      "collapsed_sections": [],
      "toc_visible": true
    },
    "kernelspec": {
      "name": "python3",
      "display_name": "Python 3"
    },
    "language_info": {
      "name": "python"
    }
  },
  "cells": [
    {
      "cell_type": "markdown",
      "metadata": {
        "id": "9o2AGI_wCLB5"
      },
      "source": [
        "# Django Cheatseet\n",
        "\n",
        "**Notes and Reference**\n",
        "- Programming with Mosh (2021) Django Tutorial for Beginners [2021] https://www.youtube.com/watch?v=rHux0gMZ3Eg&t=576s"
      ]
    },
    {
      "cell_type": "markdown",
      "metadata": {
        "id": "shyO1RS5kHNw"
      },
      "source": [
        "## Features\n",
        "- admin interface\n",
        "- object-relational mapper (ORM): abstracts database\n",
        "- Authentication package: for identifying users\n",
        "- Caching data"
      ]
    },
    {
      "cell_type": "markdown",
      "metadata": {
        "id": "9YgowGOLpgeg"
      },
      "source": [
        "## Getting started\n",
        "Below code runs the basic setup to start django projects (works in PyCharm)."
      ]
    },
    {
      "cell_type": "code",
      "metadata": {
        "id": "DFWy24Msm7Mn"
      },
      "source": [
        "pip3 install pipenv\n",
        "pipenv install django"
      ],
      "execution_count": null,
      "outputs": []
    },
    {
      "cell_type": "markdown",
      "metadata": {
        "id": "lcB5eAOlqJFs"
      },
      "source": [
        "    Installing django...\n",
        "\n",
        "    Success!\n",
        "    Updated Pipfile.lock (a6086c)!\n",
        "    Installing dependencies from Pipfile.lock (a6086c)...\n",
        "\n"
      ]
    },
    {
      "cell_type": "code",
      "metadata": {
        "id": "J6iY7uxam7c8"
      },
      "source": [
        "ls"
      ],
      "execution_count": null,
      "outputs": []
    },
    {
      "cell_type": "markdown",
      "metadata": {
        "id": "gnN7N7VmqRKX"
      },
      "source": [
        "    \\Desktop\\PyCharm\\Django\n",
        "\n",
        "    Mode                 LastWriteTime         Length Name\n",
        "    ----                 -------------         ------ ----\n",
        "    d-----      2021-10-30    9:43 AM                .idea\n",
        "    d-----      2021-10-30    9:42 AM                 venv\n",
        "    -a----      2021-10-30    9:38 AM           544 main.py\n",
        "    -a----      2021-10-30    9:42 AM           151 Pipfile\n",
        "    -a----      2021-10-30    9:43 AM          1724 Pipfile.lock\n"
      ]
    },
    {
      "cell_type": "code",
      "metadata": {
        "id": "NPd-f4O_m7hx"
      },
      "source": [
        "# this command opens the project in VS Code\n",
        "code . "
      ],
      "execution_count": null,
      "outputs": []
    },
    {
      "cell_type": "markdown",
      "metadata": {
        "id": "U_WDgtMkq_bI"
      },
      "source": [
        "### Pipfile"
      ]
    },
    {
      "cell_type": "code",
      "metadata": {
        "id": "2omcGNMcqEwv"
      },
      "source": [
        "[[source]]\n",
        "url = \"https://pypi.org/simple\"\n",
        "verify_ssl = true\n",
        "name = \"pypi\"\n",
        "\n",
        "[packages]\n",
        "django = \"*\"    # any or latest version of django\n",
        "\n",
        "[dev-packages]\n",
        "\n",
        "[requires]\n",
        "python_version = \"3.8\""
      ],
      "execution_count": null,
      "outputs": []
    },
    {
      "cell_type": "markdown",
      "metadata": {
        "id": "fWbmAOiMrtSz"
      },
      "source": [
        "Open a shell inside your project, not the global one for your machine."
      ]
    },
    {
      "cell_type": "code",
      "metadata": {
        "id": "3v1-9-pLm7l3"
      },
      "source": [
        "pipenv shell"
      ],
      "execution_count": null,
      "outputs": []
    },
    {
      "cell_type": "markdown",
      "metadata": {
        "id": "8_ZOnEEwr_0z"
      },
      "source": [
        "### Django admin\n",
        "Django admin is a utility comes with Django. \n",
        "\n",
        "<br>\n",
        "\n",
        "Then start a project using the django-admin interface."
      ]
    },
    {
      "cell_type": "code",
      "metadata": {
        "id": "L90Mbpa6tCdh"
      },
      "source": [
        "# run this commend\n",
        "django-admin"
      ],
      "execution_count": null,
      "outputs": []
    },
    {
      "cell_type": "code",
      "metadata": {
        "id": "t-XYFOx0rybA"
      },
      "source": [
        "# then you get: \n",
        "\n",
        "Type 'django-admin help <subcommand>' for help on a specific subcommand.\n",
        "\n",
        "Available subcommands:\n",
        "\n",
        "[django]\n",
        "    check\n",
        "    compilemessages\n",
        "    createcachetable\n",
        "    dbshell\n",
        "    diffsettings\n",
        "    dumpdata\n",
        "    flush\n",
        "    inspectdb\n",
        "    loaddata\n",
        "    makemessages\n",
        "    makemigrations\n",
        "    migrate\n",
        "    runserver\n",
        "    sendtestemail\n",
        "    shell\n",
        "    showmigrations\n",
        "    sqlflush\n",
        "    sqlmigrate\n",
        "    sqlsequencereset\n",
        "    squashmigrations\n",
        "    startproject\n",
        "    test\n",
        "    testserver"
      ],
      "execution_count": null,
      "outputs": []
    },
    {
      "cell_type": "markdown",
      "metadata": {
        "id": "PThEF_TQvGMg"
      },
      "source": [
        "### `django-admin startproject proj_name`"
      ]
    },
    {
      "cell_type": "code",
      "metadata": {
        "id": "SJRsgU7KryeO"
      },
      "source": [
        "# Start the project by running the following commands on terminal\n",
        "mkvirtualenv proj_name\n",
        "django-admin startproject proj_name"
      ],
      "execution_count": null,
      "outputs": []
    },
    {
      "cell_type": "markdown",
      "metadata": {
        "id": "yYL8sij4CcS_"
      },
      "source": [
        "### Getting rid of redundancy"
      ]
    },
    {
      "cell_type": "code",
      "metadata": {
        "id": "yfPZy6Y3vyJS"
      },
      "source": [
        "# Delete redundancy directory\n",
        "# Create pipfile\n",
        "pipenv lock\n",
        "\n",
        "# Re-start the project using dot (.) this time\n",
        "django-admin startproject dir_name .  # <-- the dot here makes the difference. \n",
        "# starts the project at the current location."
      ],
      "execution_count": null,
      "outputs": []
    },
    {
      "cell_type": "markdown",
      "metadata": {
        "id": "9ZZpP128C_Ur"
      },
      "source": [
        "## App structure\n",
        "📂`dir_name`\n",
        "├── 📂`dir_name`  \n",
        "│.......├── 📃`__init__.py`: defines directory as a package.  \n",
        "│.......├── 📃`asgi.py`  \n",
        "│.......├── 📃`settings.py`: defines our app settings  \n",
        "│.......├── 📃`urls.py`: defines urls used in our app.  \n",
        "│.......└── 📃`wsgi.py`  \n",
        "└── 📃`manage.py`  \n",
        "\n",
        "<br>\n",
        "\n",
        "`asgi.py` and `wsqi.py` are used for deployment."
      ]
    },
    {
      "cell_type": "markdown",
      "metadata": {
        "id": "tNC0WmUQDC8a"
      },
      "source": [
        "## 1 `manage.py`\n",
        "A wrapper file for django-admin. From this point on, `manage.py` is used in place of `django-admin` command."
      ]
    },
    {
      "cell_type": "markdown",
      "metadata": {
        "id": "XuMRjUV2DEOL"
      },
      "source": [
        "### 1) `django-admin runserver`\n",
        "Triggers the following exception:   \n",
        "\n",
        "    raise ImproperlyConfigured(\n",
        "    django.core.exceptions.ImproperlyConfigured: Requested setting DEBUG, but settings are not \n",
        "    configured. You must either define the environment variable DJANGO_SETTINGS_MODULE or call \n",
        "    settings.configure() before accessing settings.\n",
        "\n",
        "This is because `Django` doesn't know about the settings of our project yet. "
      ]
    },
    {
      "cell_type": "markdown",
      "metadata": {
        "id": "4B1VAC9k3TaR"
      },
      "source": [
        "### 2) `python manage.py`\n",
        "\n",
        "- `python manage.py`: lists sub-commands\n",
        "- `python manage.py runserver`: runs the server"
      ]
    },
    {
      "cell_type": "code",
      "metadata": {
        "id": "-EF9s73vDE9y"
      },
      "source": [
        "Type 'manage.py help <subcommand>' for help on a specific subcommand.\n",
        "\n",
        "Available subcommands:\n",
        "\n",
        "[auth]\n",
        "    changepassword\n",
        "    createsuperuser\n",
        "\n",
        "[contenttypes]\n",
        "    remove_stale_contenttypes\n",
        "\n",
        "[django]\n",
        "    check\n",
        "    compilemessages\n",
        "    createcachetable\n",
        "    dbshell\n",
        "    diffsettings\n",
        "    dumpdata\n",
        "    flush\n",
        "    inspectdb\n",
        "    loaddata\n",
        "    makemessages\n",
        "    makemigrations\n",
        "    migrate\n",
        "    sendtestemail\n",
        "    shell\n",
        "    showmigrations\n",
        "    sqlflush\n",
        "    sqlmigrate\n",
        "    sqlsequencereset\n",
        "    squashmigrations\n",
        "    startapp\n",
        "    startproject\n",
        "    test\n",
        "    testserver\n",
        "\n",
        "[sessions]\n",
        "    clearsessions\n",
        "\n",
        "[staticfiles]\n",
        "    collectstatic\n",
        "    findstatic\n",
        "    runserver"
      ],
      "execution_count": null,
      "outputs": []
    },
    {
      "cell_type": "markdown",
      "metadata": {
        "id": "GnOIa5B-DGAI"
      },
      "source": [
        "### Run the server\n",
        "Compare the two commands:\n",
        "- `django-admin runserver`\n",
        "- `python manage.py runserver`"
      ]
    },
    {
      "cell_type": "code",
      "metadata": {
        "id": "AWXrVidODGYC"
      },
      "source": [
        " python manage.py runserver"
      ],
      "execution_count": null,
      "outputs": []
    },
    {
      "cell_type": "code",
      "metadata": {
        "id": "njufxZxi442X"
      },
      "source": [
        "Watching for file changes with StatReloader\n",
        "Performing system checks...\n",
        "\n",
        "System check identified no issues (0 silenced).\n",
        "\n",
        "You have 18 unapplied migration(s). Your project may not work properly until you apply the \n",
        "migrations for app(s): admin, auth, contenttypes, sessions.\n",
        "Run 'python manage.py migrate' to apply them.\n",
        "October 30, 2021 - 10:44:13\n",
        "Django version 3.2.8, using settings 'djangoApp.settings'\n",
        "Starting development server at http://127.0.0.1:8000/"
      ],
      "execution_count": null,
      "outputs": []
    },
    {
      "cell_type": "code",
      "metadata": {
        "colab": {
          "base_uri": "https://localhost:8080/",
          "height": 451
        },
        "id": "f6AjrJE45a66",
        "outputId": "8893b347-89a3-4fb4-f8c0-cd69e4590c37"
      },
      "source": [
        "# click the server and you'll see: "
      ],
      "execution_count": 3,
      "outputs": [
        {
          "output_type": "display_data",
          "data": {
            "text/html": [
              "<style> pre { white-space: pre-wrap; } </style>"
            ],
            "text/plain": [
              "<IPython.core.display.HTML object>"
            ]
          },
          "metadata": {}
        },
        {
          "output_type": "display_data",
          "data": {
            "text/html": [
              "<style> pre { white-space: pre-wrap; } </style>"
            ],
            "text/plain": [
              "<IPython.core.display.HTML object>"
            ]
          },
          "metadata": {}
        },
        {
          "output_type": "display_data",
          "data": {
            "image/png": "[encoded data removed]",
            "text/plain": [
              "<PIL.Image.Image image mode=RGB size=1014x575 at 0x7F7B957DF1D0>"
            ]
          },
          "metadata": {}
        }
      ]
    },
    {
      "cell_type": "markdown",
      "metadata": {
        "id": "DqblcWbOCeZv"
      },
      "source": [
        "### `Ctrl + C`\n",
        "Quit running the server. "
      ]
    },
    {
      "cell_type": "markdown",
      "metadata": {
        "id": "ZvKIN2L6DIMo"
      },
      "source": [
        "### Select `python interpreter` for the virtualenv.\n",
        "Not the global interpreter but exclusively for your project. "
      ]
    },
    {
      "cell_type": "code",
      "metadata": {
        "id": "B6cJl9lYCgOi"
      },
      "source": [
        "# figure out the venv path:\n",
        "pipenv --venv\n",
        "\n",
        "# ..\\.virtualenvs\\djangoApp-ds563sRd"
      ],
      "execution_count": null,
      "outputs": []
    },
    {
      "cell_type": "markdown",
      "metadata": {
        "id": "dwOCxfYvDJOs"
      },
      "source": [
        "## 2 `settings.py`\n",
        "- `INSTALLED_APPS`: each app provides certain functionality. \n",
        "  - We can also create our own apps."
      ]
    },
    {
      "cell_type": "code",
      "metadata": {
        "id": "c6If5zTiDMwm"
      },
      "source": [
        "INSTALLED_APPS = [                   # Default apps included in django project\n",
        "    'django.contrib.admin',          # admin interface to manage our data.\n",
        "    'django.contrib.auth',           # used to authenticate users\n",
        "    'django.contrib.contenttypes',   # \n",
        "    'django.contrib.sessions',       # legacy. Temporary memory on server to manage user data.\n",
        "    'django.contrib.messages',       # used to send one-off notifications to users.\n",
        "    'django.contrib.staticfiles',    # used to manage static files like images.\n",
        "]"
      ],
      "execution_count": null,
      "outputs": []
    },
    {
      "cell_type": "markdown",
      "metadata": {
        "id": "UVhJAMZJDKeL"
      },
      "source": [
        "## 3 `python manage.py startapp playground`\n",
        "Create a new app by running the command. You will see the following created within your project directory: \n",
        "\n",
        "📂`djangoApp`  \n",
        "├── 📂 `djangoApp`  \n",
        "├── 📂 `playground`    \n",
        "│.......├── 📂 migrations  \n",
        "│.......├── 📃 `__init__.py`: defines directory as a package.    \n",
        "│.......├── 📃 `admin.py`: defines how the admin-interface for this app will look like.     \n",
        "│.......├── 📃 `apps.py`: configure the app (perhaps config is a better name).   \n",
        "│.......├── 📃 `models.py`: defines model classes which we pull out to present to the user.    \n",
        "│.......├── 📃 `tests.py`: write unit tests.   \n",
        "└──..└── 📃 `views.py`: (request handler)   \n"
      ]
    },
    {
      "cell_type": "code",
      "metadata": {
        "id": "YroO0PPXDNjZ"
      },
      "source": [
        "# djangoApp.djangoApp.settings.py\n",
        "\n",
        "INSTALLED_APPS = [\n",
        "    'django.contrib.admin',\n",
        "    'django.contrib.auth',\n",
        "    'django.contrib.contenttypes',\n",
        "    'django.contrib.messages',\n",
        "    'django.contrib.staticfiles',\n",
        "    'playground'                    # Now that we created the playground app, add it on this list.\n",
        "]"
      ],
      "execution_count": null,
      "outputs": []
    },
    {
      "cell_type": "markdown",
      "metadata": {
        "id": "WWvjljWFDKNj"
      },
      "source": [
        "## 4 `playground.views.py`\n",
        "In `views` we create `views functions`. \n",
        "- HTTP: is a request response protocol.\n",
        "- `views functions`: takes a request and returns a response."
      ]
    },
    {
      "cell_type": "markdown",
      "metadata": {
        "id": "lyNhnQMCF0Np"
      },
      "source": [
        "Examples of Response handling functions you can define in `playground.views.py`\n",
        "- Pull data from DB\n",
        "- Transform data\n",
        "- Send emails"
      ]
    },
    {
      "cell_type": "markdown",
      "metadata": {
        "id": "ZVIL9SXgGbWG"
      },
      "source": [
        "### `playground.urls.py`"
      ]
    },
    {
      "cell_type": "code",
      "metadata": {
        "id": "_aZN34WQGdkW"
      },
      "source": [
        "from django.urls import path\n",
        "from . import views     # by importing views module, we can reference our view function.\n",
        "\n",
        "# Create an array of URL pattern objects.\n",
        "# URLConf module - allows every app to have its own configuration.\n",
        "urlpatterns = [\n",
        "    # path function: route (str), view: (*args: Any, **kwargs: Any) -> HttpResponseBase,\n",
        "    #                kwargs: Dict[str, Any] = ...,\n",
        "    #                name: str = ...) -> URLPattern\n",
        "    path(\"hi/\", views.greet_user) # instead of the function, pass in the reference to it.\n",
        "] "
      ],
      "execution_count": null,
      "outputs": []
    },
    {
      "cell_type": "markdown",
      "metadata": {
        "id": "rABMtxa1IPRj"
      },
      "source": [
        "### import `playground.urls.py` to the main project `urls.py`"
      ]
    },
    {
      "cell_type": "code",
      "metadata": {
        "id": "9Is9zXF4DOTa"
      },
      "source": [
        "from django.contrib import admin\n",
        "from django.urls import path\n",
        "from django.urls import include, path\n",
        "\n",
        "urlpatterns = [\n",
        "    path('admin/', admin.site.urls),\n",
        "    path('playground/', include('playground.urls')) # all routes including 'playground' will use urls from the playground app.\n",
        "]"
      ],
      "execution_count": null,
      "outputs": []
    },
    {
      "cell_type": "markdown",
      "metadata": {
        "id": "FpkapOU5QRkB"
      },
      "source": [
        "## 5 `templates`\n",
        "Create `templates` directory. \n",
        "You can create any `html` files in it.\n",
        "\n",
        "- {% if %}  \n",
        "- {% else %}  \n",
        "- {% endif %}"
      ]
    },
    {
      "cell_type": "code",
      "metadata": {
        "id": "dYrqHDqPJKY9"
      },
      "source": [
        "{% if name %}\n",
        "<h1>Hello {{ name }}</h1>\n",
        "<h3>\n",
        "  <strong>\n",
        "    this is <span style=\"color: blue\">{{ name }}</span> struggling to understand\n",
        "    django\n",
        "  </strong>\n",
        "</h3>\n",
        "<img\n",
        "  src=\"C:\\Users\\youre\\Desktop\\PyCharm\\djangoApp\\playground\\statics\\Salix.jpg\"\n",
        "  alt=\"lush green willow tree\" />\n",
        "\n",
        "{% else %}\n",
        "<h1>Hello World</h1>\n",
        "{% endif %}"
      ],
      "execution_count": null,
      "outputs": []
    },
    {
      "cell_type": "markdown",
      "metadata": {
        "id": "dWFyd1su0YNq"
      },
      "source": [
        "## 6 Run and Debug\n",
        "To customise Run and Debug create a `launch.json` file.\n",
        "  \n",
        "📂`djangoApp`   \n",
        "├── 📂`.vscode`   \n",
        "│.......├── 📝`launch.json`  \n",
        "│.......├── 📝`settings.json`      \n",
        "├── 📂`playground`  \n",
        "└── 📂`djangoApp`\n",
        "\n",
        "<br>\n",
        "\n",
        "https://django-debug-toolbar.readthedocs.io/en/latest/installation.html"
      ]
    },
    {
      "cell_type": "markdown",
      "metadata": {
        "id": "hzre83vv6tag"
      },
      "source": [
        "### Django Debug Toolbar"
      ]
    },
    {
      "cell_type": "code",
      "metadata": {
        "id": "jhZV7l6W2z0K"
      },
      "source": [
        "python -m pip install django-debug-toolbar \n",
        "# or\n",
        "pipenv install django-debug-toolbar"
      ],
      "execution_count": null,
      "outputs": []
    },
    {
      "cell_type": "code",
      "metadata": {
        "id": "1mijNJ-E0WNr"
      },
      "source": [
        "import debug_toolbar                    # add\n",
        "from django.contrib import admin\n",
        "from django.urls import path, include\n",
        "\n",
        "urlpatterns = [\n",
        "    path('admin/', admin.site.urls),\n",
        "    path('playground/', include('playground.urls')),\n",
        "    path('__debug__/', include('debug_toolbar.urls')) # add \n",
        "]"
      ],
      "execution_count": null,
      "outputs": []
    },
    {
      "cell_type": "markdown",
      "metadata": {
        "id": "jFvM_whQ-6nH"
      },
      "source": [
        "### Enabling middleware"
      ]
    },
    {
      "cell_type": "code",
      "metadata": {
        "id": "lAkyJxGi8sLT"
      },
      "source": [
        "# settings.py \n",
        "\n",
        "MIDDLEWARE = [\n",
        "    'debug_toolbar.middleware.DebugToolbarMiddleware',  # add \n",
        "    'django.middleware.security.SecurityMiddleware',\n",
        "    'django.contrib.sessions.middleware.SessionMiddleware',\n",
        "    'django.middleware.common.CommonMiddleware',\n",
        "    'django.middleware.csrf.CsrfViewMiddleware',\n",
        "    'django.contrib.auth.middleware.AuthenticationMiddleware',\n",
        "    'django.contrib.messages.middleware.MessageMiddleware',\n",
        "    'django.middleware.clickjacking.XFrameOptionsMiddleware',\n",
        "]"
      ],
      "execution_count": null,
      "outputs": []
    },
    {
      "cell_type": "markdown",
      "metadata": {
        "id": "qC16ZYe8_be4"
      },
      "source": [
        "### Configuring Internal IPs"
      ]
    },
    {
      "cell_type": "code",
      "metadata": {
        "id": "dKADlhdD_cMN"
      },
      "source": [
        "# add this entire snippet\n",
        "INTERNAL_IPS = [ \n",
        "    # ...\n",
        "    '127.0.0.1',\n",
        "    # ...\n",
        "]"
      ],
      "execution_count": null,
      "outputs": []
    },
    {
      "cell_type": "markdown",
      "metadata": {
        "id": "DR5nS680v67j"
      },
      "source": [
        "### `debug_toolbar`"
      ]
    },
    {
      "cell_type": "code",
      "metadata": {
        "id": "7ec0nuYszq5S"
      },
      "source": [
        "pip install django-debug-toolbar"
      ],
      "execution_count": null,
      "outputs": []
    },
    {
      "cell_type": "code",
      "metadata": {
        "id": "Cf2dTW-mv9zd"
      },
      "source": [
        "# urls.py\n",
        "import debug_toolbar\n",
        "from django.contrib import admin\n",
        "from django.urls import path, include\n",
        "\n",
        "urlpatterns = [\n",
        "    path('admin/', admin.site.urls),\n",
        "    path('playground/', include('playground.urls')),\n",
        "    path('__debug__/', include(debug_toolbar.urls))\n",
        "]"
      ],
      "execution_count": null,
      "outputs": []
    },
    {
      "cell_type": "markdown",
      "metadata": {
        "id": "YUKWkgi9Chks"
      },
      "source": [
        "# Error Notes"
      ]
    },
    {
      "cell_type": "markdown",
      "metadata": {
        "id": "8hxhds1yszsT"
      },
      "source": [
        "## Error 1\n",
        "    Note that only Django core commands are listed as settings are not properly configured \n",
        "    (error: Requested setting INSTALLED_APPS, but settings are not configured. \n",
        "    You must either define the environment variable DJANGO_SETTINGS_MODULE or call settings.\n",
        "    configure() before accessing \n",
        "    settings.)."
      ]
    },
    {
      "cell_type": "markdown",
      "metadata": {
        "id": "xA8sm14lJ2rw"
      },
      "source": [
        "## Missing positional argument\n",
        "\n",
        "    TypeError: _path() missing 1 required positional argument: 'view'"
      ]
    },
    {
      "cell_type": "code",
      "metadata": {
        "id": "nhJDQgJ0DPHQ"
      },
      "source": [
        "urlpatterns = [\n",
        "    # path function: route (str), view: (*args: Any, **kwargs: Any) -> HttpResponseBase,\n",
        "    #                kwargs: Dict[str, Any] = ...,\n",
        "    #                name: str = ...) -> URLPattern\n",
        "    path(\"hi/\", views.greet_user) # instead of the function, pass in the reference to it.\n",
        "] "
      ],
      "execution_count": null,
      "outputs": []
    }
  ]
}
